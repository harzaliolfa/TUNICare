{
 "cells": [
  {
   "cell_type": "code",
   "execution_count": 22,
   "id": "e1b77137",
   "metadata": {},
   "outputs": [],
   "source": [
    "import numpy as np\n",
    "import pickle\n",
    "import pandas as pd"
   ]
  },
  {
   "cell_type": "code",
   "execution_count": 23,
   "id": "4c465b44",
   "metadata": {},
   "outputs": [],
   "source": [
    "def transform(adult):\n",
    "    df=pd.DataFrame([adult])\n",
    "    cols = df.columns.values\n",
    "    large_data = [i for i in cols if df[i].mean() > 10000]\n",
    "\n",
    "    df_std =np.log1p(df[large_data])\n",
    "    df[large_data]= df_std\n",
    "    \n",
    "    return df"
   ]
  },
  {
   "cell_type": "code",
   "execution_count": 24,
   "id": "c014a60e",
   "metadata": {},
   "outputs": [],
   "source": [
    "def predict_single(adult,model):\n",
    "    df=transform(adult)\n",
    "    X=df.values\n",
    "    y_pred=model.predict_proba(X)[:, 1]\n",
    "    return y_pred[0]"
   ]
  },
  {
   "cell_type": "code",
   "execution_count": 25,
   "id": "02b4b204",
   "metadata": {},
   "outputs": [],
   "source": [
    "with open('/home/rayen/ENSIT/TuniHack/hackathon/stress-model.bin', 'rb') as f_in:\n",
    "    model = pickle.load(f_in)\n",
    "            "
   ]
  },
  {
   "cell_type": "code",
   "execution_count": 26,
   "id": "582e967c",
   "metadata": {},
   "outputs": [
    {
     "data": {
      "text/plain": [
       "0.13227813444913755"
      ]
     },
     "execution_count": 26,
     "metadata": {},
     "output_type": "execute_result"
    }
   ],
   "source": [
    "adult={\n",
    "     'ville_id ':1,\n",
    "    'sex':1,\n",
    "    'age':28 ,'married ':1,\n",
    "    'number_children':0,\n",
    "    'education_level':10,\n",
    "    'total_members ':5,\n",
    "    'gained_asset ':17712201,\n",
    "    'durable_asset':22861940, \n",
    "    'save_asset':23399979,\n",
    "    'living_expenses ':26692283,\n",
    "    'other_expenses':28203066, \n",
    "    'incoming_salary ':0,\n",
    "    'incoming_own_farm':0, \n",
    "    'incoming_business':0, \n",
    "    'incoming_no_business':0,\n",
    "    'incoming_agricultural':30028818,\n",
    "    'farm_expenses':31363432,\n",
    "    'labor_primary':0,\n",
    "    'lasting_investment':28411718,\n",
    "    'no_lasting_investmen':28292707,\n",
    "    \n",
    "}\n",
    "predict_single(adult,model)"
   ]
  },
  {
   "cell_type": "code",
   "execution_count": null,
   "id": "d397aad1",
   "metadata": {},
   "outputs": [],
   "source": []
  }
 ],
 "metadata": {
  "kernelspec": {
   "display_name": "Python 3.9.12 ('base')",
   "language": "python",
   "name": "python3"
  },
  "language_info": {
   "codemirror_mode": {
    "name": "ipython",
    "version": 3
   },
   "file_extension": ".py",
   "mimetype": "text/x-python",
   "name": "python",
   "nbconvert_exporter": "python",
   "pygments_lexer": "ipython3",
   "version": "3.9.12"
  },
  "vscode": {
   "interpreter": {
    "hash": "030dd2c6c31ba4edcc233f0c7716010cf94de86bbef4be8c2da694b76980b3fe"
   }
  }
 },
 "nbformat": 4,
 "nbformat_minor": 5
}
